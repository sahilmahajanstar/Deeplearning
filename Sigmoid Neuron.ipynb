{
 "cells": [
  {
   "cell_type": "code",
   "execution_count": 1,
   "metadata": {},
   "outputs": [],
   "source": [
    "import numpy as np\n",
    "import matplotlib.pyplot as plt\n",
    "from ipywidgets import widgets,interact\n",
    "from sklearn.datasets import load_breast_cancer\n",
    "from sklearn.model_selection import train_test_split\n",
    "from sklearn.metrics import accuracy_score,mean_squared_error\n",
    "from sklearn.preprocessing import StandardScaler\n",
    "from sklearn.feature_selection import SelectKBest\n",
    "import math\n",
    "import pandas as pd"
   ]
  },
  {
   "cell_type": "code",
   "execution_count": 2,
   "metadata": {},
   "outputs": [],
   "source": [
    "class Sigmoidplot:\n",
    "    def __init__(self,a,b):\n",
    "        self.w=a\n",
    "        self.b=b\n",
    "    def model(self,x):\n",
    "        '''\n",
    "        Sigmoid model\n",
    "        '''\n",
    "        return 1/(1+np.exp(-(np.sum(np.dot(self.w,x))+self.b)))\n",
    "    \n",
    "    def Plot(self):\n",
    "        interact(self.intereactsigmoid,w=widgets.FloatSlider(min=-10,max=10,step=0.2),b=widgets.FloatSlider(min=-10,max=10,step=0.2));\n",
    "    \n",
    "    def intereactsigmoid(self,w,b):\n",
    "        self.w=w\n",
    "        self.b=b\n",
    "        y=[]\n",
    "        X=np.linspace(-10,10,100)\n",
    "        for x in X:\n",
    "            y.append(self.model(x))\n",
    "        plt.plot(X,y)\n",
    "        plt.xlabel(\"X\")\n",
    "        plt.ylabel(\"Y\")\n",
    "        plt.show()\n",
    "    "
   ]
  },
  {
   "cell_type": "code",
   "execution_count": 3,
   "metadata": {},
   "outputs": [
    {
     "data": {
      "application/vnd.jupyter.widget-view+json": {
       "model_id": "4e522898e16345229fde004b8ccc04be",
       "version_major": 2,
       "version_minor": 0
      },
      "text/plain": [
       "interactive(children=(FloatSlider(value=0.0, description='w', max=10.0, min=-10.0, step=0.2), FloatSlider(valu…"
      ]
     },
     "metadata": {},
     "output_type": "display_data"
    }
   ],
   "source": [
    "sigmoid=Sigmoidplot(1,2)\n",
    "sigmoid.Plot()"
   ]
  },
  {
   "cell_type": "code",
   "execution_count": 4,
   "metadata": {},
   "outputs": [],
   "source": [
    "class sigmoid_neuron:\n",
    "    \n",
    "    def __init__(self):\n",
    "        self.w=None\n",
    "        self.b=None\n",
    "    \n",
    "    def model(self,x):\n",
    "        '''\n",
    "        Sigmoid model\n",
    "        x->input array of shape (1,n)\n",
    "        n is number of Fearture\n",
    "        '''\n",
    "        return 1/(1+np.exp(-(np.sum(np.dot(self.w,x))+self.b)))\n",
    "    \n",
    "    def loss(self,x,y):\n",
    "        return (self.model(x)-y)**2\n",
    "\n",
    "    def grad_w(self,x,y):\n",
    "        '''\n",
    "        Partial derivative of Loss function w.r.t (w1,w2,w3,..) i.e number of fearture for ith data.\n",
    "        This function calculate gradient for w1,w2,...wn for input array of shape (1,n) \n",
    "        it return vector of size(1,n)\n",
    "        '''\n",
    "        y_pred=self.model(x)\n",
    "        return (y_pred-y) * y_pred* (1-y_pred) * x\n",
    "    \n",
    "    def grad_b(self,x,y):\n",
    "        y_pred=self.model(x)\n",
    "        return (y_pred-y) * y_pred* (1-y_pred)\n",
    "    \n",
    "    def plot_loss(self):\n",
    "        plt.plot(range(len(self.loss_num)),self.loss_num)\n",
    "        plt.show()\n",
    "        \n",
    "    def predict(self,X):\n",
    "        Y=[]\n",
    "        for x in X:\n",
    "            result=self.model(x)\n",
    "            #for classification threshold=0.4 as\n",
    "            if result>0.4:\n",
    "                Y.append(1)\n",
    "            else:\n",
    "                Y.append(0)\n",
    "        return Y\n",
    "            \n",
    "    def fit(self,X,Y,epochs=1,lr=1):\n",
    "        '''\n",
    "        X->training input data\n",
    "        Y->Output Labels\n",
    "        lr->learning rate\n",
    "        epochs->number of iteration\n",
    "        '''\n",
    "        self.w=np.random.randn(1,X.shape[1])\n",
    "        self.b=0\n",
    "        self.loss_num=[]\n",
    "        for i in range(epochs):\n",
    "            dw=0\n",
    "            db=0\n",
    "            loss=0\n",
    "            for x,y in zip(X,Y):\n",
    "                #calculate sum of partial derivative of loss w.r.t w1,w2,...,wn\n",
    "                loss+=self.loss(x,y)\n",
    "                dw=dw+self.grad_w(x,y)\n",
    "                db=db+self.grad_b(x,y)\n",
    "            self.loss_num.append(loss)\n",
    "            self.w=self.w-lr*dw\n",
    "            self.b=self.b-lr*db        "
   ]
  },
  {
   "cell_type": "code",
   "execution_count": 5,
   "metadata": {},
   "outputs": [],
   "source": [
    "s=sigmoid_neuron()\n",
    "data=load_breast_cancer()\n",
    "X=data[\"data\"]\n",
    "Y=data[\"target\"]\n",
    "standardization=StandardScaler() # standardize data as result get overflow cause learning problem\n",
    "X=standardization.fit_transform(X)\n",
    "# select best \n",
    "selectbest=SelectKBest(k=2)\n",
    "X=selectbest.fit_transform(X,Y)\n",
    "data1=pd.DataFrame(X)\n",
    "data1[\"class\"]=Y"
   ]
  },
  {
   "cell_type": "code",
   "execution_count": 6,
   "metadata": {},
   "outputs": [
    {
     "data": {
      "image/png": "[encoded data removed]",
      "text/plain": [
       "<Figure size 432x288 with 1 Axes>"
      ]
     },
     "metadata": {
      "needs_background": "light"
     },
     "output_type": "display_data"
    }
   ],
   "source": [
    "for i,c in zip(range(2),[\"red\",\"green\"]):\n",
    "    x1=data1[data1['class']==i].iloc[:,0]\n",
    "    x2=data1[data1['class']==i].iloc[:,1]\n",
    "    plt.xlabel('x1')\n",
    "    plt.ylabel('x2')\n",
    "    plt.scatter(x1,x2,color=c)\n",
    "plt.show()"
   ]
  },
  {
   "cell_type": "markdown",
   "metadata": {},
   "source": [
    "# Data can be seperable by sigmoid neuron let's code it"
   ]
  },
  {
   "cell_type": "code",
   "execution_count": 7,
   "metadata": {},
   "outputs": [],
   "source": [
    "X_train, X_test, y_train, y_test =train_test_split(X,Y,test_size=0.25,random_state=1)\n",
    "s.fit(X_train,y_train,epochs=500,lr=0.001)"
   ]
  },
  {
   "cell_type": "code",
   "execution_count": 8,
   "metadata": {},
   "outputs": [],
   "source": [
    "Y_pred=s.predict(X_test)"
   ]
  },
  {
   "cell_type": "code",
   "execution_count": 9,
   "metadata": {},
   "outputs": [
    {
     "name": "stdout",
     "output_type": "stream",
     "text": [
      "Accuracy is  0.9300699300699301\n",
      "RMSE is 0.26444294267397256\n"
     ]
    }
   ],
   "source": [
    "print(\"Accuracy is \",accuracy_score(y_test,Y_pred))\n",
    "print(\"RMSE is\",math.sqrt(mean_squared_error(y_test,Y_pred)))"
   ]
  },
  {
   "cell_type": "code",
   "execution_count": 10,
   "metadata": {},
   "outputs": [
    {
     "data": {
      "image/png": "[encoded data removed]",
      "text/plain": [
       "<Figure size 432x288 with 1 Axes>"
      ]
     },
     "metadata": {
      "needs_background": "light"
     },
     "output_type": "display_data"
    }
   ],
   "source": [
    "#plot ith iteration vs loss\n",
    "s.plot_loss()"
   ]
  },
  {
   "cell_type": "code",
   "execution_count": 11,
   "metadata": {},
   "outputs": [
    {
     "name": "stdout",
     "output_type": "stream",
     "text": [
      "[1, 0, 1, 0, 1, 0, 0, 1, 1, 1, 1, 0, 0, 1, 1, 1, 1, 1, 1, 0, 1, 1, 0, 1, 0, 1, 1, 0, 0, 1, 0, 1, 0, 0, 1, 1, 0, 1, 1, 1, 1, 1, 1, 1, 1, 0, 1, 1, 1, 0, 0, 0, 1, 1, 1, 1, 1, 0, 1, 1, 1, 0, 1, 1, 1, 1, 1, 0, 1, 1, 1, 1, 1, 0, 1, 0, 1, 1, 1, 0, 1, 0, 1, 0, 1, 1, 1, 1, 0, 1, 1, 0, 1, 1, 0, 0, 1, 1, 1, 1, 1, 1, 1, 1, 1, 1, 1, 1, 0, 0, 0, 1, 1, 1, 0, 0, 1, 1, 1, 1, 1, 0, 0, 1, 1, 0, 0, 1, 0, 0, 1, 0, 1, 0, 1, 0, 0, 1, 1, 1, 1, 0, 1]\n"
     ]
    }
   ],
   "source": [
    "print(Y_pred)"
   ]
  },
  {
   "cell_type": "code",
   "execution_count": 12,
   "metadata": {},
   "outputs": [
    {
     "name": "stdout",
     "output_type": "stream",
     "text": [
      "weight [[-1.6776685  -1.92786744]] Bias 0.749248249376996\n"
     ]
    }
   ],
   "source": [
    "print(\"weight\",s.w,\"Bias\",s.b)"
   ]
  },
  {
   "attachments": {
    "image.png": {
     "image/png": "[encoded data removed]"
    }
   },
   "cell_type": "markdown",
   "metadata": {},
   "source": [
    "# From above observation weights are negative and biase is positive so sigmoid slope is negative as we see in following figure that obtaine from above Sigmoidplot class written top of this jupyter notebook\n",
    "![image.png](attachment:image.png)"
   ]
  },
  {
   "cell_type": "code",
   "execution_count": null,
   "metadata": {},
   "outputs": [],
   "source": []
  }
 ],
 "metadata": {
  "kernelspec": {
   "display_name": "Python 3",
   "language": "python",
   "name": "python3"
  },
  "language_info": {
   "codemirror_mode": {
    "name": "ipython",
    "version": 3
   },
   "file_extension": ".py",
   "mimetype": "text/x-python",
   "name": "python",
   "nbconvert_exporter": "python",
   "pygments_lexer": "ipython3",
   "version": "3.7.5"
  }
 },
 "nbformat": 4,
 "nbformat_minor": 2
}
